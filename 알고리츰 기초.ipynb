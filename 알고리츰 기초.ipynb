{
 "cells": [
  {
   "cell_type": "markdown",
   "id": "c6a6d609",
   "metadata": {},
   "source": [
    "# 세 정수의 최댓값 구하기"
   ]
  },
  {
   "cell_type": "markdown",
   "id": "6f8b7974",
   "metadata": {},
   "source": [
    "### 사용자 함수 미사용"
   ]
  },
  {
   "cell_type": "code",
   "execution_count": 18,
   "id": "23899981",
   "metadata": {},
   "outputs": [
    {
     "name": "stdout",
     "output_type": "stream",
     "text": [
      "세 정수의 최댓값을 구합니다.\n",
      "정수 a의 값을 입력하세요.:1\n",
      "정수 b의 값을 입력하세요.:3\n",
      "정수 c의 값을 입력하세요.:2\n",
      "최댓값은 3입니다.\n"
     ]
    }
   ],
   "source": [
    "print('세 정수의 최댓값을 구합니다.')\n",
    "a = int(input('정수 a의 값을 입력하세요.:'))\n",
    "b = int(input('정수 b의 값을 입력하세요.:'))\n",
    "c = int(input('정수 c의 값을 입력하세요.:'))\n",
    "\n",
    "maximum = a\n",
    "if b > maximum:\n",
    "    maximum = b\n",
    "if c > maximum:\n",
    "    maximum = c\n",
    "\n",
    "print(f'최댓값은 {maximum}입니다.')"
   ]
  },
  {
   "cell_type": "markdown",
   "id": "fee3962f",
   "metadata": {},
   "source": [
    "### 사용자 함수 사용"
   ]
  },
  {
   "cell_type": "code",
   "execution_count": 17,
   "id": "4a00bebb",
   "metadata": {
    "scrolled": true
   },
   "outputs": [
    {
     "name": "stdout",
     "output_type": "stream",
     "text": [
      "max_value(3, 2, 1) = 3\n",
      "max_value(3, 3, 1) = 3\n",
      "max_value(3, 3, 3) = 3\n"
     ]
    }
   ],
   "source": [
    "def max_value(a, b, c):\n",
    "    maximum = a\n",
    "    if b > maximum:\n",
    "        maximum = b\n",
    "    if c > maximum:\n",
    "        maximum = c\n",
    "    return maximum\n",
    "    \n",
    "print(f'max_value(3, 2, 1) = {max_value(3, 2, 1)}')\n",
    "print(f'max_value(3, 3, 1) = {max_value(3, 3, 1)}')\n",
    "print(f'max_value(3, 3, 3) = {max_value(3, 3, 3)}')"
   ]
  },
  {
   "cell_type": "markdown",
   "id": "63c32e41",
   "metadata": {},
   "source": [
    "# 1부터 n까지 정수의 합 구하기"
   ]
  },
  {
   "cell_type": "markdown",
   "id": "aceacbca",
   "metadata": {},
   "source": [
    "### while 문 이용"
   ]
  },
  {
   "cell_type": "code",
   "execution_count": 33,
   "id": "c70e3240",
   "metadata": {
    "scrolled": false
   },
   "outputs": [
    {
     "name": "stdout",
     "output_type": "stream",
     "text": [
      "1부터 n까지 정수의 합을 구합니다.\n",
      "n값을 입력하세요.:-8\n",
      "n값을 입력하세요.:0\n",
      "n값을 입력하세요.:5\n",
      "1부터 5까지의 합은 15입니다.\n"
     ]
    }
   ],
   "source": [
    "print('1부터 n까지 정수의 합을 구합니다.')\n",
    "\n",
    "while True:\n",
    "    n = int(input('n값을 입력하세요.:'))\n",
    "    if n > 0:\n",
    "        break  # 음수가 입력되면 반복\n",
    "\n",
    "sum = 0\n",
    "i = 1\n",
    "\n",
    "while i <= n:\n",
    "    sum += i  # sum에 i를 더함\n",
    "    i += 1   #i에 1을 더함\n",
    "    \n",
    "print(f'1부터 {n}까지의 합은 {sum}입니다.')"
   ]
  },
  {
   "cell_type": "markdown",
   "id": "eb273136",
   "metadata": {},
   "source": [
    "### for 문 이용"
   ]
  },
  {
   "cell_type": "code",
   "execution_count": 34,
   "id": "ae976321",
   "metadata": {
    "scrolled": true
   },
   "outputs": [
    {
     "name": "stdout",
     "output_type": "stream",
     "text": [
      "1부터 n까지 정수의 합을 구합니다.\n",
      "n값을 입력하세요.:-5\n",
      "n값을 입력하세요.:0\n",
      "n값을 입력하세요.:5\n",
      "1부터 5까지의 합은 15입니다.\n"
     ]
    }
   ],
   "source": [
    "print('1부터 n까지 정수의 합을 구합니다.')\n",
    "\n",
    "while True:\n",
    "    n = int(input('n값을 입력하세요.:'))\n",
    "    if n > 0:\n",
    "        break  # 음수가 입력되면 반복\n",
    "\n",
    "sum = 0\n",
    "for i in range(1, n + 1):\n",
    "    sum += i  # sum에 i를 더함\n",
    "    \n",
    "print(f'1부터 {n}까지의 합은 {sum}입니다.')"
   ]
  },
  {
   "cell_type": "markdown",
   "id": "0caacff6",
   "metadata": {},
   "source": [
    "# a부터 b까지 정수의 합 구하기"
   ]
  },
  {
   "cell_type": "code",
   "execution_count": 24,
   "id": "c4f8b22f",
   "metadata": {},
   "outputs": [
    {
     "name": "stdout",
     "output_type": "stream",
     "text": [
      "a부터 b까지 정수의 합을 구합니다.\n",
      "a값을 입력하세요.:9\n",
      "b값을 입력하세요.:5\n",
      "5부터 9까지의 합은 35입니다.\n"
     ]
    }
   ],
   "source": [
    "print('a부터 b까지 정수의 합을 구합니다.')\n",
    "a = int(input('a값을 입력하세요.:'))\n",
    "b = int(input('b값을 입력하세요.:'))\n",
    "\n",
    "if a > b:\n",
    "    a, b = b, a   # a와 b 오름차순 정렬\n",
    "    \n",
    "sum = 0\n",
    "for i in range(a, b + 1):\n",
    "    sum += i  # sum에 i를 더함\n",
    "    \n",
    "print(f'{a}부터 {b}까지의 합은 {sum}입니다.')"
   ]
  },
  {
   "cell_type": "code",
   "execution_count": 29,
   "id": "df95e789",
   "metadata": {},
   "outputs": [
    {
     "name": "stdout",
     "output_type": "stream",
     "text": [
      "a부터 b까지 정수의 합을 구합니다.\n",
      "a값을 입력하세요.:3\n",
      "b값을 입력하세요.:8\n",
      "3 + 4 + 5 + 6 + 7 + 8 = 33\n"
     ]
    }
   ],
   "source": [
    "print('a부터 b까지 정수의 합을 구합니다.')\n",
    "a = int(input('a값을 입력하세요.:'))\n",
    "b = int(input('b값을 입력하세요.:'))\n",
    "\n",
    "if a > b:\n",
    "    a, b = b, a\n",
    "\n",
    "sum = 0\n",
    "for i in range(a, b):\n",
    "        print(f'{i} + ', end='')\n",
    "        sum += i\n",
    "        \n",
    "print(f'{b} = ', end='')\n",
    "sum += b\n",
    "        \n",
    "print(sum)"
   ]
  },
  {
   "cell_type": "markdown",
   "id": "aa8d5a57",
   "metadata": {},
   "source": [
    "# 기호 출력"
   ]
  },
  {
   "cell_type": "markdown",
   "id": "5c85f7ef",
   "metadata": {},
   "source": [
    "### 기호 번갈아 출력"
   ]
  },
  {
   "cell_type": "code",
   "execution_count": 31,
   "id": "a1806a25",
   "metadata": {},
   "outputs": [
    {
     "name": "stdout",
     "output_type": "stream",
     "text": [
      "+와 _를 번갈아 출력합니다.\n",
      "몇 개를 출력할까요?: 12\n",
      "+-+-+-+-+-+-\n"
     ]
    }
   ],
   "source": [
    "print('+와 _를 번갈아 출력합니다.')\n",
    "n = int(input('몇 개를 출력할까요?: '))\n",
    "\n",
    "for _ in range(n // 2):\n",
    "    print('+-', end='')\n",
    "    \n",
    "if n % 2:\n",
    "    print('+', end='')"
   ]
  },
  {
   "cell_type": "markdown",
   "id": "278028aa",
   "metadata": {},
   "source": [
    "### 기호 줄바꿈 출력"
   ]
  },
  {
   "cell_type": "code",
   "execution_count": 32,
   "id": "42632d2d",
   "metadata": {
    "scrolled": true
   },
   "outputs": [
    {
     "name": "stdout",
     "output_type": "stream",
     "text": [
      "*를 출력합니다.\n",
      "몇 개를 출력할까요?: 24\n",
      "몇 개마다 줄바꿈할까요?: 7\n",
      "*******\n",
      "*******\n",
      "*******\n",
      "***\n"
     ]
    }
   ],
   "source": [
    "print('*를 출력합니다.')\n",
    "n = int(input('몇 개를 출력할까요?: '))\n",
    "w = int(input('몇 개마다 줄바꿈할까요?: '))\n",
    "\n",
    "for _ in range(n // w):\n",
    "    print('*' * w)\n",
    "\n",
    "rest = n % w\n",
    "if rest:\n",
    "    print('*' * rest)"
   ]
  },
  {
   "cell_type": "markdown",
   "id": "842fc255",
   "metadata": {},
   "source": [
    "# 구구단 곱셈표 출력"
   ]
  },
  {
   "cell_type": "code",
   "execution_count": 39,
   "id": "aae2adce",
   "metadata": {},
   "outputs": [
    {
     "name": "stdout",
     "output_type": "stream",
     "text": [
      "---------------------------\n",
      "  1  2  3  4  5  6  7  8  9\n",
      "  2  4  6  8 10 12 14 16 18\n",
      "  3  6  9 12 15 18 21 24 27\n",
      "  4  8 12 16 20 24 28 32 36\n",
      "  5 10 15 20 25 30 35 40 45\n",
      "  6 12 18 24 30 36 42 48 54\n",
      "  7 14 21 28 35 42 49 56 63\n",
      "  8 16 24 32 40 48 56 64 72\n",
      "  9 18 27 36 45 54 63 72 81\n",
      "---------------------------\n"
     ]
    }
   ],
   "source": [
    "print('-' * 27)\n",
    "for i in range(1, 10):\n",
    "    for j in range(1, 10):\n",
    "        print(f'{i * j:3}', end='')\n",
    "    print()\n",
    "print('-' * 27)"
   ]
  },
  {
   "cell_type": "markdown",
   "id": "0f6a3dd4",
   "metadata": {},
   "source": [
    "# 직각 삼각형 출력"
   ]
  },
  {
   "cell_type": "markdown",
   "id": "2eb600ef",
   "metadata": {},
   "source": [
    "### 왼쪽 아래가 직각인 삼각형"
   ]
  },
  {
   "cell_type": "code",
   "execution_count": 41,
   "id": "70a16407",
   "metadata": {},
   "outputs": [
    {
     "name": "stdout",
     "output_type": "stream",
     "text": [
      "짧은 변의 길이를 입력하세요.: 6\n",
      "*\n",
      "**\n",
      "***\n",
      "****\n",
      "*****\n",
      "******\n"
     ]
    }
   ],
   "source": [
    "n = int(input('짧은 변의 길이를 입력하세요.: '))\n",
    "\n",
    "for i in range(n):\n",
    "    for j in range(i + 1):\n",
    "        print('*', end='')\n",
    "    print()"
   ]
  },
  {
   "cell_type": "markdown",
   "id": "8092ace7",
   "metadata": {},
   "source": [
    "### 오른쪽 아래가 직각인 삼각형"
   ]
  },
  {
   "cell_type": "code",
   "execution_count": 42,
   "id": "90969bcc",
   "metadata": {},
   "outputs": [
    {
     "name": "stdout",
     "output_type": "stream",
     "text": [
      "짧은 변의 길이를 입력하세요.: 7\n",
      "      *\n",
      "     **\n",
      "    ***\n",
      "   ****\n",
      "  *****\n",
      " ******\n",
      "*******\n"
     ]
    }
   ],
   "source": [
    "n = int(input('짧은 변의 길이를 입력하세요.: '))\n",
    "\n",
    "for i in range(n):\n",
    "    for _ in range(n - 1 - i):\n",
    "        print(' ', end='')\n",
    "    for _ in range(i + 1):\n",
    "        print('*', end='')\n",
    "    print()"
   ]
  }
 ],
 "metadata": {
  "kernelspec": {
   "display_name": "Python 3 (ipykernel)",
   "language": "python",
   "name": "python3"
  },
  "language_info": {
   "codemirror_mode": {
    "name": "ipython",
    "version": 3
   },
   "file_extension": ".py",
   "mimetype": "text/x-python",
   "name": "python",
   "nbconvert_exporter": "python",
   "pygments_lexer": "ipython3",
   "version": "3.9.13"
  }
 },
 "nbformat": 4,
 "nbformat_minor": 5
}
