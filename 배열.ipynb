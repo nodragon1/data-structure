{
 "cells": [
  {
   "cell_type": "markdown",
   "id": "a5603ec0",
   "metadata": {},
   "source": [
    "# 배열 원소의 최댓값 구하기"
   ]
  },
  {
   "cell_type": "markdown",
   "id": "dd831821",
   "metadata": {},
   "source": [
    "### 정해진 원소 수"
   ]
  },
  {
   "cell_type": "code",
   "execution_count": 7,
   "id": "3819494e",
   "metadata": {
    "scrolled": true
   },
   "outputs": [
    {
     "name": "stdout",
     "output_type": "stream",
     "text": [
      "배열의 최댓값을 구합니다.\n",
      "원소 수를 입력하세요.: 5\n",
      "x[0]값을 입력하세요.: 12\n",
      "x[1]값을 입력하세요.: 15\n",
      "x[2]값을 입력하세요.: 35\n",
      "x[3]값을 입력하세요.: 10\n",
      "x[4]값을 입력하세요.: 9\n",
      "최댓값은 35입니다.\n"
     ]
    }
   ],
   "source": [
    "from typing import Any, Sequence\n",
    "\n",
    "def max_of(a: Sequence) -> Any:\n",
    "    maximum = a[0]\n",
    "    for i in range(1, len(a)):\n",
    "        if a[i] > maximum:\n",
    "            maximum = a[i]\n",
    "    return maximum\n",
    "\n",
    "if __name__ == '__main__':\n",
    "    print('배열의 최댓값을 구합니다.')\n",
    "    num = int(input('원소 수를 입력하세요.: '))\n",
    "    x = [None] * num\n",
    "    \n",
    "    for i in range(num):\n",
    "        x[i] = int(input(f'x[{i}]값을 입력하세요.: '))\n",
    "        \n",
    "    print(f'최댓값은 {max_of(x)}입니다.')"
   ]
  },
  {
   "cell_type": "markdown",
   "id": "757c04bf",
   "metadata": {},
   "source": [
    "### 정해지지 않은 원소 수"
   ]
  },
  {
   "cell_type": "code",
   "execution_count": 9,
   "id": "d5305ed4",
   "metadata": {},
   "outputs": [
    {
     "name": "stdout",
     "output_type": "stream",
     "text": [
      "배열의 최댓값을 구합니다.\n",
      "주의: \"End\"를 입력하면 종료합니다.\n",
      "x[0]값을 입력하세요.: 15\n",
      "x[1]값을 입력하세요.: 6\n",
      "x[2]값을 입력하세요.: 7\n",
      "x[3]값을 입력하세요.: 31\n",
      "x[4]값을 입력하세요.: 22\n",
      "x[5]값을 입력하세요.: End\n",
      "5개를 입력하였습니다.\n",
      "최댓값은 31입니다.\n"
     ]
    }
   ],
   "source": [
    "print('배열의 최댓값을 구합니다.')\n",
    "print('주의: \"End\"를 입력하면 종료합니다.')\n",
    "\n",
    "number = 0\n",
    "x = []\n",
    "\n",
    "while True:\n",
    "    s = input(f'x[{number}]값을 입력하세요.: ')\n",
    "    if s == 'End':\n",
    "        break\n",
    "    x.append(int(s))\n",
    "    number += 1\n",
    "    \n",
    "print(f'{number}개를 입력하였습니다.')\n",
    "print(f'최댓값은 {max_of(x)}입니다.')"
   ]
  },
  {
   "cell_type": "markdown",
   "id": "497c1223",
   "metadata": {},
   "source": [
    "### 난수의 최댓값 구하기"
   ]
  },
  {
   "cell_type": "code",
   "execution_count": 10,
   "id": "1969197c",
   "metadata": {},
   "outputs": [
    {
     "name": "stdout",
     "output_type": "stream",
     "text": [
      "난수의 최댓값을 구합니다.\n",
      "난수의 개수를 입력하세요.: 10\n",
      "난수의 최솟값을 입력하세요.: 10\n",
      "난수의 최댓값을 입력하세요.: 99\n",
      "[18, 48, 85, 66, 16, 76, 36, 92, 43, 14]\n",
      "최댓값은 92입니다.\n"
     ]
    }
   ],
   "source": [
    "import random\n",
    "\n",
    "print('난수의 최댓값을 구합니다.')\n",
    "num = int(input('난수의 개수를 입력하세요.: '))\n",
    "lo = int(input('난수의 최솟값을 입력하세요.: '))\n",
    "hi = int(input('난수의 최댓값을 입력하세요.: '))\n",
    "x = [None] * num\n",
    "\n",
    "for i in range(num):\n",
    "    x[i] = random.randint(lo, hi)\n",
    "    \n",
    "print(f'{x}')\n",
    "print(f'최댓값은 {max_of(x)}입니다.')"
   ]
  },
  {
   "cell_type": "markdown",
   "id": "0e5fa1b9",
   "metadata": {},
   "source": [
    "# 배열 원소를 역순으로 정렬하기"
   ]
  },
  {
   "cell_type": "code",
   "execution_count": 11,
   "id": "6808c58f",
   "metadata": {},
   "outputs": [
    {
     "name": "stdout",
     "output_type": "stream",
     "text": [
      "배열 원소를 역순으로 정렬합니다.\n",
      "원소 수를 입력하세요.: 5\n",
      "x[0]값을 입력하세요1\n",
      "x[1]값을 입력하세요2\n",
      "x[2]값을 입력하세요3\n",
      "x[3]값을 입력하세요4\n",
      "x[4]값을 입력하세요5\n",
      "배열 원소를 역순으로 정렬했습니다.\n",
      "x[0] = 5\n",
      "x[1] = 4\n",
      "x[2] = 3\n",
      "x[3] = 2\n",
      "x[4] = 1\n"
     ]
    }
   ],
   "source": [
    "from typing import Any, MutableSequence\n",
    "\n",
    "def reverse_array(a: MutableSequence) -> None:\n",
    "    n = len(a)\n",
    "    for i in range(n // 2):\n",
    "        a[i], a[n - i - 1] = a[n - i - 1], a[i]\n",
    "        \n",
    "if __name__ == '__main__':\n",
    "    print('배열 원소를 역순으로 정렬합니다.')\n",
    "    nx = int(input('원소 수를 입력하세요.: '))\n",
    "    x = [None] * nx\n",
    "    \n",
    "    for i in range(nx):\n",
    "        x[i] = int(input(f'x[{i}]값을 입력하세요'))\n",
    "        \n",
    "    reverse_array(x)\n",
    "    \n",
    "    print('배열 원소를 역순으로 정렬했습니다.')\n",
    "    for i in range(nx):\n",
    "        print(f'x[{i}] = {x[i]}')"
   ]
  },
  {
   "cell_type": "markdown",
   "id": "842870cd",
   "metadata": {},
   "source": [
    "# 기수 변환하기"
   ]
  },
  {
   "cell_type": "code",
   "execution_count": 2,
   "id": "418e8053",
   "metadata": {},
   "outputs": [
    {
     "name": "stdout",
     "output_type": "stream",
     "text": [
      "10진수를 n진수로 반환합니다.\n",
      "음이 아닌 정수를 입력하세요.: 37\n",
      "몇 진수로 반환합니까?: 2\n",
      "37는(은) 2진수로 100101입니다.\n",
      "다시 하겠습니까? (y/n)n\n"
     ]
    }
   ],
   "source": [
    "def card_conv(x: int, r: int) -> str:\n",
    "    \n",
    "    d = ''   # 반환 후의 문자열\n",
    "    dchar = '0123456789ABCDEFGHIJKLMNOPQRSTUVWXYZ'\n",
    "    \n",
    "    while x > 0:\n",
    "        d += dchar[x % r]\n",
    "        x //= r\n",
    "        \n",
    "    return d[::-1]   # 역순으로 반환\n",
    "\n",
    "if __name__ == '__main__':\n",
    "    print('10진수를 n진수로 반환합니다.')\n",
    "    \n",
    "    while True:\n",
    "        while True:\n",
    "            no = int(input('음이 아닌 정수를 입력하세요.: '))\n",
    "            if no > 0:\n",
    "                break\n",
    "            \n",
    "        while True:\n",
    "            cd = int(input('몇 진수로 반환합니까?: '))\n",
    "            if 2 <= cd <= 36:\n",
    "                break\n",
    "                    \n",
    "        print(f'{no}는(은) {cd}진수로 {card_conv(no, cd)}입니다.')\n",
    "            \n",
    "        retry = input('다시 하겠습니까? (y/n)')\n",
    "        if retry in {'N', 'n'}:\n",
    "            break"
   ]
  },
  {
   "cell_type": "markdown",
   "id": "753973c9",
   "metadata": {},
   "source": [
    "# 소숫값 구하기"
   ]
  },
  {
   "cell_type": "markdown",
   "id": "12e1d7c3",
   "metadata": {},
   "source": [
    "### 이중 루프"
   ]
  },
  {
   "cell_type": "code",
   "execution_count": 8,
   "id": "e17ff28f",
   "metadata": {},
   "outputs": [
    {
     "name": "stdout",
     "output_type": "stream",
     "text": [
      "생략\n",
      "나눗셈을 실행한 횟수:14622\n"
     ]
    }
   ],
   "source": [
    "counter = 0   # 연산의 횟수 카운트\n",
    "ptr = 0   # 찾은 소수의 갯수\n",
    "prime = [None] * 500\n",
    "\n",
    "prime[ptr] = 2\n",
    "ptr += 1\n",
    "\n",
    "for n in range(3, 1001, 2):   # 2를 제외한 모든 짝수는 소수가 아님\n",
    "    for i in range(1, ptr):   # 이미 찾은 소수로 나눔\n",
    "        counter += 1\n",
    "        if n % prime[i] == 0:\n",
    "            break\n",
    "    else:\n",
    "        prime[ptr] = n\n",
    "        ptr += 1\n",
    "        \n",
    "for i in range(ptr):\n",
    "    print(prime[i])\n",
    "print(f'나눗셈을 실행한 횟수:{counter}')"
   ]
  },
  {
   "cell_type": "markdown",
   "id": "1f8a69c0",
   "metadata": {},
   "source": [
    "### 개선"
   ]
  },
  {
   "cell_type": "code",
   "execution_count": 7,
   "id": "912a9203",
   "metadata": {},
   "outputs": [
    {
     "name": "stdout",
     "output_type": "stream",
     "text": [
      "생략\n",
      "연산을 실행한 횟수: 3774\n"
     ]
    }
   ],
   "source": [
    "counter = 0   # 연산의 횟수 카운트\n",
    "ptr = 0   # 찾은 소수의 갯수\n",
    "prime = [None] * 500\n",
    "\n",
    "prime[ptr] = 2   # 2는 소수\n",
    "ptr += 1\n",
    "\n",
    "prime[ptr] = 3   # 3은 소수\n",
    "ptr += 1\n",
    "\n",
    "for n in range(5, 1001, 2):   # 2를 제외한 모든 짝수는 소수가 아님\n",
    "    i = 1\n",
    "    while prime[i] * prime[i] <= n:\n",
    "        counter += 2\n",
    "        if n % prime[i] == 0:\n",
    "            break\n",
    "        i += 1\n",
    "    else:\n",
    "        prime[ptr] = n\n",
    "        ptr += 1\n",
    "        counter += 1\n",
    "        \n",
    "for i in range(ptr):\n",
    "    print(prime[i])\n",
    "print(f'연산을 실행한 횟수: {counter}')"
   ]
  }
 ],
 "metadata": {
  "kernelspec": {
   "display_name": "Python 3 (ipykernel)",
   "language": "python",
   "name": "python3"
  },
  "language_info": {
   "codemirror_mode": {
    "name": "ipython",
    "version": 3
   },
   "file_extension": ".py",
   "mimetype": "text/x-python",
   "name": "python",
   "nbconvert_exporter": "python",
   "pygments_lexer": "ipython3",
   "version": "3.9.13"
  }
 },
 "nbformat": 4,
 "nbformat_minor": 5
}
